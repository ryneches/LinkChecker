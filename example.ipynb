{
 "cells": [
  {
   "cell_type": "code",
   "execution_count": 10,
   "metadata": {
    "collapsed": true
   },
   "outputs": [],
   "source": [
    "import slate\n",
    "import urllib\n",
    "import re"
   ]
  },
  {
   "cell_type": "code",
   "execution_count": 3,
   "metadata": {
    "collapsed": false
   },
   "outputs": [],
   "source": [
    "furl = urllib.urlopen('http://www.nature.com/ismej/journal/v10/n1/pdf/ismej2015100a.pdf')\n",
    "with open( '/tmp/asdfasdfasdf.pdf', 'w' ) as ftempfile :\n",
    "    ftempfile.write( furl.read() )\n",
    "with open( '/tmp/asdfasdfasdf.pdf' ) as f :\n",
    "    doc = slate.PDF(f)"
   ]
  },
  {
   "cell_type": "markdown",
   "metadata": {},
   "source": [
    "### PDF is garbage\n",
    "\n",
    "In this example, we are looking for a link to some source code :\n",
    "\n",
    "[`http://prodege.jgi-psf.org//downloads/src`](http://prodege.jgi-psf.org//downloads/src)\n",
    "\n",
    "However, in the PDF, the URL is line wrapped, so the `src` is lost."
   ]
  },
  {
   "cell_type": "code",
   "execution_count": 20,
   "metadata": {
    "collapsed": false
   },
   "outputs": [
    {
     "name": "stdout",
     "output_type": "stream",
     "text": [
      "[]\n",
      "['http://prodege.jgi-psf.org//downloads/', 'http://prodege.jgi-psf.org,']\n",
      "[]\n",
      "['http://img.jgi.', 'http://www.nature.com/ismej)']\n"
     ]
    }
   ],
   "source": [
    "urlre = re.compile( '(?P<url>https?://[^\\s]+)' )\n",
    "\n",
    "for page in doc :\n",
    "    print urlre.findall( page )"
   ]
  },
  {
   "cell_type": "markdown",
   "metadata": {},
   "source": [
    "### PDF is garbage, continued\n",
    "\n",
    "If we remove line breaks to fix URLs that have been wrapped, we discover\n",
    "that the visible line breaks in the document do not correspond to actual\n",
    "line breaks in the represented text. The result is random garbage. "
   ]
  },
  {
   "cell_type": "code",
   "execution_count": 19,
   "metadata": {
    "collapsed": false
   },
   "outputs": [
    {
     "name": "stdout",
     "output_type": "stream",
     "text": [
      "[]\n",
      "['http://prodege.jgi-psf.org//downloads/availablerun', 'http://prodege.jgi-psf.org,which']\n",
      "[]\n",
      "['http://img.jgi.Cell', 'http://creativecommons.org/licenses/by/4.0/the', 'http://www.nature.com/ismej)The']\n"
     ]
    }
   ],
   "source": [
    "urlre = re.compile( '(?P<url>https?://[^\\s]+)' )\n",
    "\n",
    "for page in doc :\n",
    "    print urlre.findall( page.replace('\\n','') )"
   ]
  },
  {
   "cell_type": "markdown",
   "metadata": {},
   "source": [
    "At this point, the author elects to flip a table."
   ]
  },
  {
   "cell_type": "code",
   "execution_count": null,
   "metadata": {
    "collapsed": true
   },
   "outputs": [],
   "source": []
  }
 ],
 "metadata": {
  "kernelspec": {
   "display_name": "Python 2",
   "language": "python",
   "name": "python2"
  },
  "language_info": {
   "codemirror_mode": {
    "name": "ipython",
    "version": 2
   },
   "file_extension": ".py",
   "mimetype": "text/x-python",
   "name": "python",
   "nbconvert_exporter": "python",
   "pygments_lexer": "ipython2",
   "version": "2.7.9"
  }
 },
 "nbformat": 4,
 "nbformat_minor": 0
}
