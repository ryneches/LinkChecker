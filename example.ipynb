{
 "cells": [
  {
   "cell_type": "code",
   "execution_count": 10,
   "metadata": {
    "collapsed": true
   },
   "outputs": [],
   "source": [
    "import slate\n",
    "import urllib\n",
    "import re"
   ]
  },
  {
   "cell_type": "code",
   "execution_count": 3,
   "metadata": {
    "collapsed": false
   },
   "outputs": [],
   "source": [
    "furl = urllib.urlopen('http://www.nature.com/ismej/journal/v10/n1/pdf/ismej2015100a.pdf')\n",
    "with open( '/tmp/asdfasdfasdf.pdf', 'w' ) as ftempfile :\n",
    "    ftempfile.write( furl.read() )\n",
    "with open( '/tmp/asdfasdfasdf.pdf' ) as f :\n",
    "    doc = slate.PDF(f)"
   ]
  },
  {
   "cell_type": "markdown",
   "metadata": {},
   "source": [
    "### PDF is garbage\n",
    "\n",
    "In this example, we are looking for a link to some source code :\n",
    "\n",
    "[`http://prodege.jgi-psf.org//downloads/src`](http://prodege.jgi-psf.org//downloads/src)\n",
    "\n",
    "However, in the PDF, the URL is line wrapped, so the `src` is lost."
   ]
  },
  {
   "cell_type": "code",
   "execution_count": 20,
   "metadata": {
    "collapsed": false
   },
   "outputs": [
    {
     "name": "stdout",
     "output_type": "stream",
     "text": [
      "[]\n",
      "['http://prodege.jgi-psf.org//downloads/', 'http://prodege.jgi-psf.org,']\n",
      "[]\n",
      "['http://img.jgi.', 'http://www.nature.com/ismej)']\n"
     ]
    }
   ],
   "source": [
    "urlre = re.compile( '(?P<url>https?://[^\\s]+)' )\n",
    "\n",
    "for page in doc :\n",
    "    print urlre.findall( page )"
   ]
  },
  {
   "cell_type": "markdown",
   "metadata": {},
   "source": [
    "### PDF is garbage, continued\n",
    "\n",
    "If we remove line breaks to fix URLs that have been wrapped, we discover\n",
    "that the visible line breaks in the document do not correspond to actual\n",
    "line breaks in the represented text. The result is random garbage. "
   ]
  },
  {
   "cell_type": "code",
   "execution_count": 19,
   "metadata": {
    "collapsed": false
   },
   "outputs": [
    {
     "name": "stdout",
     "output_type": "stream",
     "text": [
      "[]\n",
      "['http://prodege.jgi-psf.org//downloads/availablerun', 'http://prodege.jgi-psf.org,which']\n",
      "[]\n",
      "['http://img.jgi.Cell', 'http://creativecommons.org/licenses/by/4.0/the', 'http://www.nature.com/ismej)The']\n"
     ]
    }
   ],
   "source": [
    "urlre = re.compile( '(?P<url>https?://[^\\s]+)' )\n",
    "\n",
    "for page in doc :\n",
    "    print urlre.findall( page.replace('\\n','') )"
   ]
  },
  {
   "cell_type": "markdown",
   "metadata": {},
   "source": [
    "### Nope.\n",
    "\n",
    "At this point, the author elects to flip a table. \n",
    "\n",
    "Let's try looking at the HTML version. I'll swipe some code from \n",
    "[Dive into Python](http://www.diveintopython.net/) here, because \n",
    "finding URLs in a HTML document is what is known as a \"Solved Problem.\""
   ]
  },
  {
   "cell_type": "code",
   "execution_count": 1,
   "metadata": {
    "collapsed": true
   },
   "outputs": [],
   "source": [
    "from sgmllib import SGMLParser\n",
    "\n",
    "class URLLister(SGMLParser):\n",
    "    def reset(self):                              \n",
    "        SGMLParser.reset(self)\n",
    "        self.urls = []\n",
    "\n",
    "    def start_a(self, attrs):                     \n",
    "        href = [v for k, v in attrs if k=='href']  \n",
    "        if href:\n",
    "            self.urls.extend(href)\n",
    "            \n",
    "def get_urls_from(url):\n",
    "    url_list = []\n",
    "    import urllib\n",
    "    usock = urllib.urlopen(url)\n",
    "    parser = URLLister()\n",
    "    parser.feed(usock.read())         \n",
    "    usock.close()      \n",
    "    parser.close()                    \n",
    "    map(url_list.append, \n",
    "        [item for item in parser.urls if item.startswith(('http', 'ftp', 'www'))])\n",
    "    return url_list"
   ]
  },
  {
   "cell_type": "markdown",
   "metadata": {},
   "source": [
    "Here are all the URLs in the document..."
   ]
  },
  {
   "cell_type": "code",
   "execution_count": 3,
   "metadata": {
    "collapsed": false
   },
   "outputs": [
    {
     "data": {
      "text/plain": [
       "['http://www.isme-microbes.org/',\n",
       " 'http://mts-isme.nature.com/cgi-bin/main.plex',\n",
       " 'http://ad.doubleclick.net/N285/jump/ismej.nature.com/;abr=!NN2;type=sc;artid=ismej2015100a;issue=1;pos=top;subjmeta=631;subjmeta=208;subjmeta=212;techmeta=45;techmeta=23;sz=728x90;tile=1;ord=123456789?',\n",
       " 'http://prodege.jgi-psf.org//downloads/src',\n",
       " 'http://prodege.jgi-psf.org',\n",
       " 'http://dx.doi.org/10.1089/cmb.2012.0021',\n",
       " 'http://www.ncbi.nlm.nih.gov/entrez/query.fcgi?holding=npg&amp;cmd=Retrieve&amp;db=PubMed&amp;list_uids=22506599&amp;dopt=Abstract',\n",
       " 'http://links.isiglobalnet2.com/gateway/Gateway.cgi?&amp;GWVersion=2&amp;SrcAuth=Nature&amp;SrcApp=Nature&amp;DestLinkType=FullRecord&amp;KeyUT=000303811800001&amp;DestApp=WOS_CPL',\n",
       " 'http://chemport.cas.org/cgi-bin/sdcgi?APP=ftslink&action=reflink&origin=npg&version=1.0&coi=1:CAS:528:DC%2BC38XmsFOmt7k%3D&pissn=1751-7362&pyear=2016&md5=186ecb2f73d6216debcdc0dc83436dfe',\n",
       " 'http://dx.doi.org/10.1186/1471-2105-10-421',\n",
       " 'http://www.ncbi.nlm.nih.gov/entrez/query.fcgi?holding=npg&amp;cmd=Retrieve&amp;db=PubMed&amp;list_uids=20003500&amp;dopt=Abstract',\n",
       " 'http://chemport.cas.org/cgi-bin/sdcgi?APP=ftslink&action=reflink&origin=npg&version=1.0&coi=1:CAS:528:DC%2BD1MXhsF2gu7jP&pissn=1751-7362&pyear=2016&md5=38e25da61da7c88bff514b4f0c502751',\n",
       " 'http://img.jgi.doe.gov/w/doc/SingleCellDataDecontamination.pdf',\n",
       " 'http://dx.doi.org/10.1073/pnas.1001665107',\n",
       " 'http://www.ncbi.nlm.nih.gov/entrez/query.fcgi?holding=npg&amp;cmd=Retrieve&amp;db=PubMed&amp;list_uids=20668244&amp;dopt=Abstract',\n",
       " 'http://dx.doi.org/10.1371/journal.pgen.1004596',\n",
       " 'http://www.ncbi.nlm.nih.gov/entrez/query.fcgi?holding=npg&amp;cmd=Retrieve&amp;db=PubMed&amp;list_uids=25210772&amp;dopt=Abstract',\n",
       " 'http://dx.doi.org/10.1038/ismej.2014.183',\n",
       " 'http://links.isiglobalnet2.com/gateway/Gateway.cgi?&amp;GWVersion=2&amp;SrcAuth=Nature&amp;SrcApp=Nature&amp;DestLinkType=FullRecord&amp;KeyUT=000351204900007&amp;DestApp=WOS_CPL',\n",
       " 'http://dx.doi.org/10.1093/bioinformatics/btq564',\n",
       " 'http://www.ncbi.nlm.nih.gov/entrez/query.fcgi?holding=npg&amp;cmd=Retrieve&amp;db=PubMed&amp;list_uids=20966005&amp;dopt=Abstract',\n",
       " 'http://links.isiglobalnet2.com/gateway/Gateway.cgi?&amp;GWVersion=2&amp;SrcAuth=Nature&amp;SrcApp=Nature&amp;DestLinkType=FullRecord&amp;KeyUT=000284430900009&amp;DestApp=WOS_CPL',\n",
       " 'http://chemport.cas.org/cgi-bin/sdcgi?APP=ftslink&action=reflink&origin=npg&version=1.0&coi=1:CAS:528:DC%2BC3cXhsVKjtLrJ&pissn=1751-7362&pyear=2016&md5=df5069e170f7d82c809224797936b465',\n",
       " 'http://dx.doi.org/10.1186/1471-2105-11-119',\n",
       " 'http://www.ncbi.nlm.nih.gov/entrez/query.fcgi?holding=npg&amp;cmd=Retrieve&amp;db=PubMed&amp;list_uids=20211023&amp;dopt=Abstract',\n",
       " 'http://chemport.cas.org/cgi-bin/sdcgi?APP=ftslink&action=reflink&origin=npg&version=1.0&coi=1:CAS:528:DC%2BC3cXjt12htbs%3D&pissn=1751-7362&pyear=2016&md5=79208a238042d850ec93c9090fb7ca7b',\n",
       " 'http://www.nature.com/doifinder/10.1038/nmeth0411-311',\n",
       " 'http://www.ncbi.nlm.nih.gov/entrez/query.fcgi?holding=npg&amp;cmd=Retrieve&amp;db=PubMed&amp;list_uids=21451520&amp;dopt=Abstract',\n",
       " 'http://links.isiglobalnet2.com/gateway/Gateway.cgi?&amp;GWVersion=2&amp;SrcAuth=Nature&amp;SrcApp=Nature&amp;DestLinkType=FullRecord&amp;KeyUT=000288940300017&amp;DestApp=WOS_CPL',\n",
       " 'http://chemport.cas.org/cgi-bin/sdcgi?APP=ftslink&action=reflink&origin=npg&version=1.0&coi=1:CAS:528:DC%2BC3MXjvFOnsLc%3D&pissn=1751-7362&pyear=2016&md5=0923d7644613aeaa5964bcdf4f2e0602',\n",
       " 'http://dx.doi.org/10.1093/nar/gkt963',\n",
       " 'http://www.ncbi.nlm.nih.gov/entrez/query.fcgi?holding=npg&amp;cmd=Retrieve&amp;db=PubMed&amp;list_uids=24165883&amp;dopt=Abstract',\n",
       " 'http://links.isiglobalnet2.com/gateway/Gateway.cgi?&amp;GWVersion=2&amp;SrcAuth=Nature&amp;SrcApp=Nature&amp;DestLinkType=FullRecord&amp;KeyUT=000331139800083&amp;DestApp=WOS_CPL',\n",
       " 'http://chemport.cas.org/cgi-bin/sdcgi?APP=ftslink&action=reflink&origin=npg&version=1.0&coi=1:CAS:528:DC%2BC2cXos1Sr&pissn=1751-7362&pyear=2016&md5=5aff5401128f97793cadd2d1f6bf04da',\n",
       " 'http://dx.doi.org/10.1186/1944-3277-10-8',\n",
       " 'http://www.ncbi.nlm.nih.gov/entrez/query.fcgi?holding=npg&amp;cmd=Retrieve&amp;db=PubMed&amp;list_uids=26203331&amp;dopt=Abstract',\n",
       " 'http://www.nature.com/doifinder/10.1038/nbt.2939',\n",
       " 'http://www.ncbi.nlm.nih.gov/entrez/query.fcgi?holding=npg&amp;cmd=Retrieve&amp;db=PubMed&amp;list_uids=24997787&amp;dopt=Abstract',\n",
       " 'http://links.isiglobalnet2.com/gateway/Gateway.cgi?&amp;GWVersion=2&amp;SrcAuth=Nature&amp;SrcApp=Nature&amp;DestLinkType=FullRecord&amp;KeyUT=000346455900043&amp;DestApp=WOS_CPL',\n",
       " 'http://chemport.cas.org/cgi-bin/sdcgi?APP=ftslink&action=reflink&origin=npg&version=1.0&coi=1:CAS:528:DC%2BC2cXhtFSlsLjI&pissn=1751-7362&pyear=2016&md5=2ae07546c7270b896f47e9b8c0c26666',\n",
       " 'http://www.nature.com/doifinder/10.1038/nature12352',\n",
       " 'http://www.ncbi.nlm.nih.gov/entrez/query.fcgi?holding=npg&amp;cmd=Retrieve&amp;db=PubMed&amp;list_uids=23851394&amp;dopt=Abstract',\n",
       " 'http://links.isiglobalnet2.com/gateway/Gateway.cgi?&amp;GWVersion=2&amp;SrcAuth=Nature&amp;SrcApp=Nature&amp;DestLinkType=FullRecord&amp;KeyUT=000322157900031&amp;DestApp=WOS_CPL',\n",
       " 'http://chemport.cas.org/cgi-bin/sdcgi?APP=ftslink&action=reflink&origin=npg&version=1.0&coi=1:CAS:528:DC%2BC3sXhtFShurnE&pissn=1751-7362&pyear=2016&md5=20244df8b818beea04a0c4b4e850d953',\n",
       " 'http://dx.doi.org/10.1371/journal.pone.0017288',\n",
       " 'http://www.ncbi.nlm.nih.gov/entrez/query.fcgi?holding=npg&amp;cmd=Retrieve&amp;db=PubMed&amp;list_uids=21408061&amp;dopt=Abstract',\n",
       " 'http://chemport.cas.org/cgi-bin/sdcgi?APP=ftslink&action=reflink&origin=npg&version=1.0&coi=1:CAS:528:DC%2BC3MXjslSmtr4%3D&pissn=1751-7362&pyear=2016&md5=24d49ca4672d97ff8afae936a58d5824',\n",
       " 'http://dx.doi.org/10.1126/science.1247023',\n",
       " 'http://dx.doi.org/10.1073/pnas.1304246110',\n",
       " 'http://www.ncbi.nlm.nih.gov/entrez/query.fcgi?holding=npg&amp;cmd=Retrieve&amp;db=PubMed&amp;list_uids=23801761&amp;dopt=Abstract',\n",
       " 'http://chemport.cas.org/cgi-bin/sdcgi?APP=ftslink&action=reflink&origin=npg&version=1.0&coi=1:CAS:528:DC%2BC3sXhtVWntbzN&pissn=1751-7362&pyear=2016&md5=78c9402b2462717ffd402008f725ddf4',\n",
       " 'http://links.isiglobalnet2.com/gateway/Gateway.cgi?&amp;GWVersion=2&amp;SrcAuth=Nature&amp;SrcApp=Nature&amp;DestLinkType=FullRecord&amp;KeyUT=000262637600007&amp;DestApp=WOS_CPL',\n",
       " 'http://dx.doi.org/10.1371/journal.pone.0026161',\n",
       " 'http://www.ncbi.nlm.nih.gov/entrez/query.fcgi?holding=npg&amp;cmd=Retrieve&amp;db=PubMed&amp;list_uids=22028825&amp;dopt=Abstract',\n",
       " 'http://chemport.cas.org/cgi-bin/sdcgi?APP=ftslink&action=reflink&origin=npg&version=1.0&coi=1:CAS:528:DC%2BC3MXhsVGltLbI&pissn=1751-7362&pyear=2016&md5=d8bfe0c1f4ff00d13a9f7015209804bc',\n",
       " 'http://creativecommons.org/licenses/by/4.0/',\n",
       " 'http://creativecommons.org/licenses/by/4.0/',\n",
       " 'http://mts-isme.nature.com/',\n",
       " 'http://mse.force.com/nature',\n",
       " 'http://www.isme-microbes.org/',\n",
       " 'http://www.isme-microbes.org/',\n",
       " 'http://www.readcube.com/articles/10.1038/ismej.2015.100',\n",
       " 'https://s100.copyright.com/AppDispatchServlet?publisherName=NPG&publication=The+ISME+Journal&title=ProDeGe: a computational protocol for fully automated decontamination of genomes&author=Kristin Tennessen, Evan Andersen, Scott Clingenpeel, Christian Rinke, Derek S Lundberg et al.&contentID=10.1038/ismej.2015.100&publicationDate=06/09/2015&volumeNum=10&issueNum=1&cc=by',\n",
       " 'https://s100.copyright.com/AppDispatchServlet?publisherName=NPGR&publication=The+ISME+Journal&title=ProDeGe: a computational protocol for fully automated decontamination of genomes&author=Kristin Tennessen, Evan Andersen, Scott Clingenpeel, Christian Rinke, Derek S Lundberg et al.&contentID=10.1038/ismej.2015.100&publicationDate=06/09/2015&volumeNum=10&issueNum=1&numPages=4&pageNumbers=pp269-272&orderBeanReset=true',\n",
       " 'http://www.ncbi.nlm.nih.gov/entrez/query.fcgi?cmd=search&term=Tennessen+K',\n",
       " 'http://www.nature.com/naturejobs/science/jobs/542489-talents-wanted-programme-faculty-search-for-the-school-of-environment-beijing-normal-university',\n",
       " 'http://www.nature.com/naturejobs/science/jobs/546269-research-engineer-research-scientist-in-renewable-energy',\n",
       " 'http://www.nature.com/natureevents/science/events/41001-BIO_Europe_Spring_2016',\n",
       " 'http://www.nature.com/natureevents/science/events/41003-ChinaBio_Partnering_Forum_2016',\n",
       " 'http://ad.doubleclick.net/N285/jump/ismej.nature.com/;abr=!NN2;type=sc;artid=ismej2015100a;issue=1;pos=right;subjmeta=631;subjmeta=208;subjmeta=212;techmeta=45;techmeta=23;sz=160x600;tile=2;ord=123456789?',\n",
       " 'http://publicationethics.org/',\n",
       " 'http://www.isme-microbes.org/',\n",
       " 'http://www.natureasia.com/']"
      ]
     },
     "execution_count": 3,
     "metadata": {},
     "output_type": "execute_result"
    }
   ],
   "source": [
    "urls = get_urls_from('http://www.nature.com/ismej/journal/v10/n1/full/ismej2015100a.html')\n",
    "urls"
   ]
  },
  {
   "cell_type": "markdown",
   "metadata": {},
   "source": [
    "Bleh. That is mostly links in the references, ads and navigation cruft \n",
    "from the journal's content mismanagement system. Because their system\n",
    "is heinously *ad hoc*, there is no base URL. So, we're forced to use an \n",
    "*ad hoc* exclusion list."
   ]
  },
  {
   "cell_type": "code",
   "execution_count": 4,
   "metadata": {
    "collapsed": false
   },
   "outputs": [
    {
     "data": {
      "text/plain": [
       "['http://prodege.jgi-psf.org//downloads/src',\n",
       " 'http://prodege.jgi-psf.org',\n",
       " 'http://img.jgi.doe.gov/w/doc/SingleCellDataDecontamination.pdf']"
      ]
     },
     "execution_count": 4,
     "metadata": {},
     "output_type": "execute_result"
    }
   ],
   "source": [
    "excluded = [ 'http://www.nature.com',\n",
    "             'http://dx.doi.org',\n",
    "             'http://www.ncbi.nlm.nih.gov',\n",
    "             'http://creativecommons.org',\n",
    "             'https://s100.copyright.com',\n",
    "             'http://mts-isme.nature.com',\n",
    "             'http://www.isme-microbes.org',\n",
    "             'http://ad.doubleclick.net',\n",
    "             'http://mse.force.com',\n",
    "             'http://links.isiglobalnet2.com',\n",
    "             'http://www.readcube.com',\n",
    "             'http://chemport.cas.org',\n",
    "             'http://publicationethics.org/',\n",
    "             'http://www.natureasia.com/'\n",
    "           ]\n",
    "\n",
    "def novel_url( url ) :\n",
    "    for excluded_url in excluded :\n",
    "        if url.startswith( excluded_url ) :\n",
    "            return False\n",
    "    return True\n",
    "\n",
    "filter( novel_url, urls )"
   ]
  },
  {
   "cell_type": "markdown",
   "metadata": {},
   "source": [
    "Much better. Now, let's see if these exist..."
   ]
  },
  {
   "cell_type": "code",
   "execution_count": 5,
   "metadata": {
    "collapsed": false
   },
   "outputs": [
    {
     "name": "stdout",
     "output_type": "stream",
     "text": [
      "Good :  http://prodege.jgi-psf.org//downloads/src\n",
      "Good :  http://prodege.jgi-psf.org\n",
      "Fail :  http://img.jgi.doe.gov/w/doc/SingleCellDataDecontamination.pdf\n"
     ]
    }
   ],
   "source": [
    "import requests\n",
    "\n",
    "for url in filter( novel_url, urls ) :\n",
    "    request = requests.get( url )\n",
    "    if request.status_code == 200:\n",
    "        print 'Good : ', url\n",
    "    else:\n",
    "        print 'Fail : ', url"
   ]
  },
  {
   "cell_type": "markdown",
   "metadata": {},
   "source": [
    "Looks like this will work, though we'll need to make a hand-curated list of\n",
    "excluded URLs. Othersise, the counts of dead links could be badly skewed by\n",
    "any issues within the journal's content mismanagement system, ad servers and\n",
    "other irrelevent crud."
   ]
  },
  {
   "cell_type": "markdown",
   "metadata": {},
   "source": [
    "### Walking through Zotero\n",
    "\n",
    "Let's try walking through the publications in a Zotero library..."
   ]
  },
  {
   "cell_type": "code",
   "execution_count": 8,
   "metadata": {
    "collapsed": false
   },
   "outputs": [
    {
     "name": "stdout",
     "output_type": "stream",
     "text": [
      "QC9BAHIK : ProDeGe: a computational protocol for fully automated decontamination of genomes\n",
      "E7S5UR96 : In search of non-photosynthetic Cyanobacteria\n",
      "T9GDRBT5 : Evidence-based recommendations on storing and handling specimens for analyses of insect microbiota\n",
      "BJJUJW48 : Cautionary tale of using 16S rRNA gene sequence similarity values in identification of human-associated bacterial species\n",
      "QD3JS59Z : ConStrains identifies microbial strains in metagenomic datasets\n"
     ]
    }
   ],
   "source": [
    "from pyzotero import zotero\n",
    "api_key    = open( 'zotero_api_key.txt' ).read().strip()\n",
    "library_id = open( 'zotero_api_userID.txt' ).read().strip()\n",
    "library_type = 'group'\n",
    "group_id = '405341' # microBE.net group ID\n",
    "\n",
    "zot = zotero.Zotero(group_id, library_type, api_key)\n",
    "items = zot.top(limit=5)\n",
    "# we've retrieved the latest five top-level items in our library\n",
    "# we can print each item's item type and ID\n",
    "for item in items:\n",
    "    #print('Item: %s | Key: %s') % (item['data']['itemType'], item['data']['key'])\n",
    "    print item['data']['key'], ':', item['data']['title']"
   ]
  },
  {
   "cell_type": "markdown",
   "metadata": {},
   "source": [
    "So far so good. Let's have a look at the `url` attribute..."
   ]
  },
  {
   "cell_type": "code",
   "execution_count": 47,
   "metadata": {
    "collapsed": false
   },
   "outputs": [
    {
     "name": "stdout",
     "output_type": "stream",
     "text": [
      "QC9BAHIK : http://www.nature.com/ismej/journal/v10/n1/full/ismej2015100a.html\n",
      "E7S5UR96 : http://espace.library.uq.edu.au/view/UQ:368958\n",
      "T9GDRBT5 : https://peerj.com/articles/1190\n",
      "BJJUJW48 : \n",
      "QD3JS59Z : http://www.nature.com/nbt/journal/v33/n10/full/nbt.3319.html\n"
     ]
    }
   ],
   "source": [
    "for item in items:\n",
    "    print item['data']['key'], ':', item['data']['url']"
   ]
  },
  {
   "cell_type": "markdown",
   "metadata": {},
   "source": [
    "Well, it looks like not all resources have URLs. Let's try looping over\n",
    "some of these and extracting links..."
   ]
  },
  {
   "cell_type": "code",
   "execution_count": 9,
   "metadata": {
    "collapsed": false
   },
   "outputs": [
    {
     "name": "stdout",
     "output_type": "stream",
     "text": [
      "QC9BAHIK\n",
      "     http://prodege.jgi-psf.org//downloads/src\n",
      "     http://prodege.jgi-psf.org\n",
      "     http://img.jgi.doe.gov/w/doc/SingleCellDataDecontamination.pdf\n",
      "E7S5UR96\n",
      "     http://www.uq.edu.au/\n",
      "     http://www.uq.edu.au/\n",
      "     http://www.uq.edu.au/contacts/\n",
      "     http://www.uq.edu.au/study/\n",
      "     http://www.uq.edu.au/maps/\n",
      "     http://www.uq.edu.au/news/\n",
      "     http://www.uq.edu.au/events/\n",
      "     http://www.library.uq.edu.au/\n",
      "     http://my.uq.edu.au/\n",
      "     http://ezproxy.library.uq.edu.au/login?url=http://dx.doi.org/10.14264/uql.2015.855\n",
      "     http://espace.library.uq.edu.au/list/author/Soo%2C+Rochelle+Melissa/\n",
      "     http://espace.library.uq.edu.au/list/?cat=quick_filter&search_keys%5Bcore_70%5D=School of Chemistry and Molecular Biosciences\n",
      "     http://espace.library.uq.edu.au/list/subject/452051/\n",
      "     http://espace.library.uq.edu.au/list/subject/452105/\n",
      "     http://espace.library.uq.edu.au/list/?cat=quick_filter&search_keys%5B0%5D=Melainabacteria\n",
      "     http://espace.library.uq.edu.au/list/?cat=quick_filter&search_keys%5B0%5D=Cyanobacteria\n",
      "     http://espace.library.uq.edu.au/list/?cat=quick_filter&search_keys%5B0%5D=Metabolism\n",
      "     http://scholar.google.com/scholar?q=intitle:\"In search of non-photosynthetic Cyanobacteria\"\n",
      "     http://www.uq.edu.au/\n",
      "     http://www.uq.edu.au/ipswich/\n",
      "     http://www.uq.edu.au/gatton/\n",
      "     http://www.uq.edu.au/about/herston-campus\n",
      "     http://www.uq.edu.au/maps/\n",
      "     http://www.universitiesaustralia.edu.au/\n",
      "     http://www.universitas21.com/\n",
      "     http://www.edx.org/\n",
      "     http://www.go8.edu.au/\n",
      "     http://www.uq.edu.au/terms-of-use/\n",
      "     http://www.uq.edu.au/rti/\n",
      "     http://www.library.uq.edu.au/feedback/add\n",
      "     http://www.uq.edu.au/about/cricos-link\n",
      "     http://www.uq.edu.au/omc/media\n",
      "     http://www.pf.uq.edu.au/emerg.html\n",
      "     https://www.facebook.com/uniofqld\n",
      "     http://twitter.com/uqnewsonline\n",
      "     http://www.flickr.com/photos/uqnews/sets/\n",
      "     http://instagram.com/uniofqld\n",
      "     https://www.youtube.com/universityqueensland\n",
      "     http://vimeo.com/uq\n",
      "     http://www.uq.edu.au/itunes/\n",
      "     http://www.linkedin.com/edu/school?id=10238\n",
      "     http://www.alumni.uq.edu.au/giving\n",
      "     http://www.uq.edu.au/departments/\n",
      "     http://www.uq.edu.au/uqjobs/\n",
      "     http://www.uq.edu.au/contacts/\n",
      "     http://www.uq.edu.au/services/\n",
      "     http://www.uq.edu.au/uqanswers/\n",
      "     http://fez.library.uq.edu.au/\n",
      "T9GDRBT5\n",
      "     https://peerj.com/blog/\n",
      "     http://www.mendeley.com/import/?doi=10.7717/peerj.1190\n",
      "     http://twitter.com/share?url&#x3D;https&#x25;3A&#x25;2F&#x25;2Fpeerj.com&#x25;2Farticles&#x25;2F1190&#x25;2F&via&#x3D;thePeerJ&text&#x3D;Storage&#x25;20methods&#x25;20and&#x25;20insect&#x25;20microbiota&related&#x3D;\n",
      "     http://www.facebook.com/sharer.php?u&#x3D;https&#x25;3A&#x25;2F&#x25;2Fpeerj.com&#x25;2Farticles&#x25;2F1190&#x25;2F\n",
      "     https://plus.google.com/share?url&#x3D;https&#x25;3A&#x25;2F&#x25;2Fpeerj.com&#x25;2Farticles&#x25;2F1190&#x25;2F\n",
      "     http://twitter.com/share?url&#x3D;https&#x25;3A&#x25;2F&#x25;2Fpeerj.com&#x25;2Farticles&#x25;2F1190&#x25;2F&via&#x3D;thePeerJ&text&#x3D;Storage&#x25;20methods&#x25;20and&#x25;20insect&#x25;20microbiota&related&#x3D;\n",
      "     http://www.facebook.com/sharer.php?u&#x3D;https&#x25;3A&#x25;2F&#x25;2Fpeerj.com&#x25;2Farticles&#x25;2F1190&#x25;2F\n",
      "     https://plus.google.com/share?url&#x3D;https&#x25;3A&#x25;2F&#x25;2Fpeerj.com&#x25;2Farticles&#x25;2F1190&#x25;2F\n",
      "     https://doi.org/10.7717/peerj.1190\n",
      "     https://doi.org/10.7717/peerj.1190\n",
      "     https://doi.org/10.1146%2Fannurev.ento.49.061802.123416\n",
      "     https://doi.org/10.1111%2F1574-6976.12025\n",
      "     https://doi.org/10.1146%2Fannurev-ento-010814-020822\n",
      "     https://doi.org/10.1038%2Fnrmicro3382\n",
      "     https://doi.org/10.1016%2F0305-1978%2893%2990012-G\n",
      "     https://doi.org/10.1046%2Fj.1365-294x.1999.00795.x\n",
      "     https://doi.org/10.1111%2Fj.1570-7458.2006.00451.x\n",
      "     https://doi.org/10.1071%2FIS12067\n",
      "     https://doi.org/10.1371%2Fjournal.pone.0061218\n",
      "     https://doi.org/10.1371%2Fjournal.pone.0086995\n",
      "     https://doi.org/10.1111%2Fmec.12209\n",
      "     https://doi.org/10.1371%2Fjournal.pone.0079061\n",
      "     https://doi.org/10.1603%2F0022-2585-41.3.340\n",
      "     https://doi.org/10.1111%2Fmec.12611\n",
      "     https://doi.org/10.1111%2Fj.1365-294X.2012.05752.x\n",
      "     https://doi.org/10.1111%2Fj.1574-6968.2010.01965.x\n",
      "     https://doi.org/10.1371%2Fjournal.pone.0070460\n",
      "     https://scholar.google.com/scholar_lookup?title=Tissue%20storage%20and%20primer%20selection%20influence%20pyrosequencing-based%20inferences%20of%20diversity%20and%20community%20composition%20of%20endolichenic%20and%20endophytic%20fungi&author=U%E2%80%99Ren&publication_year=2014\n",
      "     https://doi.org/10.1186%2F1471-2180-14-103\n",
      "     https://doi.org/10.1073%2Fpnas.1319284111\n",
      "     https://doi.org/10.1128%2FAEM.01886-10\n",
      "     https://doi.org/10.1371%2Fjournal.pone.0086995\n",
      "     https://doi.org/10.1111%2Fmec.12611\n",
      "     https://doi.org/10.1111%2F1755-0998.12331\n",
      "     https://doi.org/10.1111%2Fj.1574-6968.2010.01965.x\n",
      "     https://doi.org/10.1371%2Fjournal.pone.0070460\n",
      "     https://dfzljdn9uc3pi.cloudfront.net/2015/1190/1/fig-1-2x.jpg\n",
      "     https://dfzljdn9uc3pi.cloudfront.net/2015/1190/1/fig-1-full.png\n",
      "     https://doi.org/10.7717/peerj.1190/fig-1\n",
      "     https://doi.org/10.1371%2Fjournal.pone.0086995\n",
      "     https://doi.org/10.1002%2Fmbo3.216\n",
      "     https://doi.org/10.1071%2FIS12067\n",
      "     https://doi.org/10.1007%2Fs13127-010-0012-4\n",
      "     https://doi.org/10.1111%2Fele.12282\n",
      "     https://doi.org/10.1038%2Fismej.2012.8\n",
      "     https://doi.org/10.1038%2Fnmeth.2604\n",
      "     https://doi.org/10.1098%2Frspb.2014.1988\n",
      "     https://doi.org/10.1128%2FAEM.00062-07\n",
      "     https://doi.org/10.1038%2Fismej.2011.139\n",
      "     https://scholar.google.com/scholar_lookup?title=R:%20a%20language%20and%20environment%20for%20statistical%20computing&author=&publication_year=2013\n",
      "     http://CRAN.R-project.org/package=vegan\n",
      "     http://had.co.nz/ggplot2/book\n",
      "     https://doi.org/10.1111%2Fj.1442-9993.2001.01070.pp.x\n",
      "     https://dfzljdn9uc3pi.cloudfront.net/2015/1190/1/fig-2-2x.jpg\n",
      "     https://dfzljdn9uc3pi.cloudfront.net/2015/1190/1/fig-2-full.png\n",
      "     https://doi.org/10.7717/peerj.1190/fig-2\n",
      "     https://doi.org/10.1111%2Fj.1365-294X.2012.05752.x\n",
      "     https://doi.org/10.1371%2Fjournal.pone.0061218\n",
      "     https://doi.org/10.1128%2FAEM.01226-14\n",
      "     https://doi.org/10.1111%2Fj.1574-6968.2010.01965.x\n",
      "     https://scholar.google.com/scholar_lookup?title=Tissue%20storage%20and%20primer%20selection%20influence%20pyrosequencing-based%20inferences%20of%20diversity%20and%20community%20composition%20of%20endolichenic%20and%20endophytic%20fungi&author=U%E2%80%99Ren&publication_year=2014\n",
      "     https://doi.org/10.1186%2F1471-2180-14-103\n",
      "     https://doi.org/10.1073%2Fpnas.1319284111\n",
      "     https://dfzljdn9uc3pi.cloudfront.net/2015/1190/1/fig-3-2x.jpg\n",
      "     https://dfzljdn9uc3pi.cloudfront.net/2015/1190/1/fig-3-full.png\n",
      "     https://doi.org/10.7717/peerj.1190/fig-3\n",
      "     https://doi.org/10.7717/peerj.1190/table-1\n",
      "     https://dfzljdn9uc3pi.cloudfront.net/2015/1190/1/fig-4-2x.jpg\n",
      "     https://dfzljdn9uc3pi.cloudfront.net/2015/1190/1/fig-4-full.png\n",
      "     https://doi.org/10.7717/peerj.1190/fig-4\n",
      "     https://doi.org/10.1073%2Fpnas.1405838111\n",
      "     https://doi.org/10.1016%2F0020-1790%2885%2990020-4\n",
      "     https://doi.org/10.1073%2Fpnas.0807920105\n",
      "     https://doi.org/10.1371%2Fjournal.pone.0061218\n",
      "     https://doi.org/10.1371%2Fjournal.pone.0086995\n",
      "     https://doi.org/10.1111%2Fmec.12611\n",
      "     https://doi.org/10.7717/peerj.1190/supp-1\n",
      "     https://dfzljdn9uc3pi.cloudfront.net/2015/1190/1/FigS1.pdf\n",
      "     https://doi.org/10.7717/peerj.1190/supp-2\n",
      "     https://dfzljdn9uc3pi.cloudfront.net/2015/1190/1/FigS2.pdf\n",
      "     https://doi.org/10.7717/peerj.1190/supp-3\n",
      "     https://dfzljdn9uc3pi.cloudfront.net/2015/1190/1/FigS3.pdf\n",
      "     https://doi.org/10.7717/peerj.1190/supp-4\n",
      "     https://dfzljdn9uc3pi.cloudfront.net/2015/1190/1/Table_S1.xlsx\n",
      "     https://doi.org/10.7717/peerj.1190/supp-5\n",
      "     https://dfzljdn9uc3pi.cloudfront.net/2015/1190/1/Table_S2.docx\n",
      "     https://doi.org/10.1111%2Fj.1442-9993.2001.01070.pp.x\n",
      "     https://doi.org/10.1111%2Fele.12282\n",
      "     https://doi.org/10.1603%2F0022-2585-41.3.340\n",
      "     https://doi.org/10.1038%2Fismej.2012.8\n",
      "     https://doi.org/10.1038%2Fnrmicro3382\n",
      "     https://doi.org/10.1111%2Fj.1365-294X.2012.05752.x\n",
      "     https://doi.org/10.1146%2Fannurev.ento.49.061802.123416\n",
      "     https://doi.org/10.1186%2F1471-2180-14-103\n",
      "     https://doi.org/10.1146%2Fannurev-ento-010814-020822\n",
      "     https://doi.org/10.1038%2Fnmeth.2604\n",
      "     https://doi.org/10.1111%2F1574-6976.12025\n",
      "     https://doi.org/10.1371%2Fjournal.pone.0079061\n",
      "     https://doi.org/10.1073%2Fpnas.0807920105\n",
      "     https://doi.org/10.1073%2Fpnas.1319284111\n",
      "     https://doi.org/10.1046%2Fj.1365-294x.1999.00795.x\n",
      "     https://doi.org/10.1371%2Fjournal.pone.0086995\n",
      "     https://doi.org/10.1371%2Fjournal.pone.0061218\n",
      "     https://doi.org/10.1111%2Fmec.12209\n",
      "     https://doi.org/10.1073%2Fpnas.1405838111\n",
      "     https://doi.org/10.1111%2Fj.1574-6968.2010.01965.x\n",
      "     https://doi.org/10.1111%2Fj.1570-7458.2006.00451.x\n",
      "     https://doi.org/10.1038%2Fismej.2011.139\n",
      "     https://doi.org/10.1071%2FIS12067\n",
      "     https://doi.org/10.1007%2Fs13127-010-0012-4\n",
      "     http://CRAN.R-project.org/package=vegan\n",
      "     http://CRAN.R-project.org/package=vegan\n",
      "     https://doi.org/10.1016%2F0305-1978%2893%2990012-G\n",
      "     https://doi.org/10.1098%2Frspb.2014.1988\n",
      "     https://scholar.google.com/scholar_lookup?title=R:%20a%20language%20and%20environment%20for%20statistical%20computing&author=&publication_year=2013\n",
      "     https://doi.org/10.1128%2FAEM.01886-10\n",
      "     https://doi.org/10.1371%2Fjournal.pone.0070460\n",
      "     https://doi.org/10.1002%2Fmbo3.216\n",
      "     https://doi.org/10.1111%2Fmec.12611\n",
      "     https://doi.org/10.1016%2F0020-1790%2885%2990020-4\n",
      "     https://scholar.google.com/scholar_lookup?title=Tissue%20storage%20and%20primer%20selection%20influence%20pyrosequencing-based%20inferences%20of%20diversity%20and%20community%20composition%20of%20endolichenic%20and%20endophytic%20fungi&author=U%E2%80%99Ren&publication_year=2014\n",
      "     https://doi.org/10.1128%2FAEM.00062-07\n",
      "     http://had.co.nz/ggplot2/book\n",
      "     http://had.co.nz/ggplot2/book\n",
      "     https://doi.org/10.1111%2F1755-0998.12331\n",
      "     https://doi.org/10.1128%2FAEM.01226-14\n",
      "     http://www.mendeley.com/import/?doi=10.7717/peerj.1190\n",
      "     https://www.facebook.com/\n",
      "     http://www.lib.noaa.gov/noaa_research.xml\n",
      "     http://www.microbiomedigest.com/\n",
      "     http://www.tobinhammer.com/publications-and-twitter-feed.html\n",
      "     https://m.facebook.com/\n",
      "     http://m.facebook.com\n",
      "     http://m.facebook.com/\n",
      "     http://www.facebook.com/Gertruda\n",
      "     http://www.traackr.com/\n",
      "     http://apps.webofknowledge.com.proxy2.library.illinois.edu/full_record.do\n",
      "     http://apps.webofknowledge.com/Search.do\n",
      "     http://apps.webofknowledge.com/full_record.do\n",
      "     http://plus.url.google.com/url\n",
      "     http://2015.maintenance.academicanalytics.com/PersonQuadrants/PersonQuadrants\n",
      "     http://adobe.com/apollo\n",
      "     http://apps.webofknowledge.com.ezproxy2.library.arizona.edu/summary.do\n",
      "     http://apps.webofknowledge.com/summary.do\n",
      "     http://feedly.com/i/category/Open%20Access\n",
      "     http://l.facebook.com/l.php\n",
      "     http://scholar.glgoo.org/scholar\n",
      "     http://scholar.google.com.sci-hub.io/\n",
      "     http://scholar.google.com.secure.sci-hub.io/scholar\n",
      "     http://search.aol.com/aol/search\n",
      "     http://sfx.kcl.ac.uk/kings\n",
      "     http://sfx.unimi.it/unimi\n",
      "     http://sfxhosted.exlibrisgroup.com/emu\n",
      "     http://www.ask.com/web\n",
      "     http://www.sciencedirect.com/science/article/pii/030519789390012G\n",
      "     http://www.scopus.com/record/display.uri\n",
      "     http://www.scopus.com/results/citedbyresults.url\n",
      "     http://www.sogou.com/\n",
      "     https://blu182.mail.live.com/\n",
      "     https://dx.doi.org/10.7717/peerj.1190/supp-3\n",
      "     https://exchange.ou.edu/owa/redir.aspx\n",
      "     https://l.facebook.com/l.php\n",
      "     https://login.ezproxy.lib.utexas.edu/connect\n",
      "     https://outlook.caltech.edu/owa/redir.aspx\n",
      "     https://peerj.freshdesk.com/helpdesk/tickets/14030\n",
      "     https://plus.google.com/\n",
      "     https://plus.url.google.com/url\n",
      "     https://scholar-google-com-au.ezproxy2.library.usyd.edu.au/\n",
      "     https://scholar-google-com.ezproxy.library.wisc.edu/\n",
      "     https://scholar-google-com.proxy.lib.fsu.edu/scholar_lookup\n",
      "     https://scholar-google-com.proxy2.library.illinois.edu\n",
      "     https://squirrel.science.ru.nl/src/read_body.php\n",
      "     https://weboutlook.du.edu/owa/redir.aspx\n",
      "     https://www.facebook.com\n",
      "     https://twitter.com/share\n",
      "     https://peerj.com/blog/\n",
      "     http://twitter.com/thePeerJ/\n",
      "     http://facebook.com/thePeerJ/\n",
      "     https://plus.google.com/+Peerj\n",
      "     http://www.linkedin.com/company/peerj\n",
      "     http://www.pinterest.com/thepeerj/boards/\n"
     ]
    },
    {
     "ename": "IOError",
     "evalue": "[Errno socket error] timed out",
     "output_type": "error",
     "traceback": [
      "\u001b[1;31m---------------------------------------------------------------------------\u001b[0m",
      "\u001b[1;31mIOError\u001b[0m                                   Traceback (most recent call last)",
      "\u001b[1;32m<ipython-input-9-7223665263f8>\u001b[0m in \u001b[0;36m<module>\u001b[1;34m()\u001b[0m\n\u001b[0;32m      2\u001b[0m     \u001b[0mpaper_url\u001b[0m \u001b[1;33m=\u001b[0m \u001b[0mitem\u001b[0m\u001b[1;33m[\u001b[0m\u001b[1;34m'data'\u001b[0m\u001b[1;33m]\u001b[0m\u001b[1;33m[\u001b[0m\u001b[1;34m'url'\u001b[0m\u001b[1;33m]\u001b[0m\u001b[1;33m\u001b[0m\u001b[0m\n\u001b[0;32m      3\u001b[0m     \u001b[1;32mif\u001b[0m \u001b[0mpaper_url\u001b[0m\u001b[1;33m.\u001b[0m\u001b[0mstartswith\u001b[0m\u001b[1;33m(\u001b[0m \u001b[1;34m'http'\u001b[0m \u001b[1;33m)\u001b[0m \u001b[1;33m:\u001b[0m\u001b[1;33m\u001b[0m\u001b[0m\n\u001b[1;32m----> 4\u001b[1;33m         \u001b[0mlink_urls\u001b[0m \u001b[1;33m=\u001b[0m \u001b[0mget_urls_from\u001b[0m\u001b[1;33m(\u001b[0m \u001b[0mpaper_url\u001b[0m \u001b[1;33m)\u001b[0m\u001b[1;33m\u001b[0m\u001b[0m\n\u001b[0m\u001b[0;32m      5\u001b[0m         \u001b[1;32mprint\u001b[0m \u001b[0mitem\u001b[0m\u001b[1;33m[\u001b[0m\u001b[1;34m'data'\u001b[0m\u001b[1;33m]\u001b[0m\u001b[1;33m[\u001b[0m\u001b[1;34m'key'\u001b[0m\u001b[1;33m]\u001b[0m\u001b[1;33m\u001b[0m\u001b[0m\n\u001b[0;32m      6\u001b[0m         \u001b[1;32mfor\u001b[0m \u001b[0murl\u001b[0m \u001b[1;32min\u001b[0m \u001b[0mfilter\u001b[0m\u001b[1;33m(\u001b[0m \u001b[0mnovel_url\u001b[0m\u001b[1;33m,\u001b[0m \u001b[0mlink_urls\u001b[0m \u001b[1;33m)\u001b[0m \u001b[1;33m:\u001b[0m\u001b[1;33m\u001b[0m\u001b[0m\n",
      "\u001b[1;32m<ipython-input-1-699ee3a39b8b>\u001b[0m in \u001b[0;36mget_urls_from\u001b[1;34m(url)\u001b[0m\n\u001b[0;32m     14\u001b[0m     \u001b[0murl_list\u001b[0m \u001b[1;33m=\u001b[0m \u001b[1;33m[\u001b[0m\u001b[1;33m]\u001b[0m\u001b[1;33m\u001b[0m\u001b[0m\n\u001b[0;32m     15\u001b[0m     \u001b[1;32mimport\u001b[0m \u001b[0murllib\u001b[0m\u001b[1;33m\u001b[0m\u001b[0m\n\u001b[1;32m---> 16\u001b[1;33m     \u001b[0musock\u001b[0m \u001b[1;33m=\u001b[0m \u001b[0murllib\u001b[0m\u001b[1;33m.\u001b[0m\u001b[0murlopen\u001b[0m\u001b[1;33m(\u001b[0m\u001b[0murl\u001b[0m\u001b[1;33m)\u001b[0m\u001b[1;33m\u001b[0m\u001b[0m\n\u001b[0m\u001b[0;32m     17\u001b[0m     \u001b[0mparser\u001b[0m \u001b[1;33m=\u001b[0m \u001b[0mURLLister\u001b[0m\u001b[1;33m(\u001b[0m\u001b[1;33m)\u001b[0m\u001b[1;33m\u001b[0m\u001b[0m\n\u001b[0;32m     18\u001b[0m     \u001b[0mparser\u001b[0m\u001b[1;33m.\u001b[0m\u001b[0mfeed\u001b[0m\u001b[1;33m(\u001b[0m\u001b[0musock\u001b[0m\u001b[1;33m.\u001b[0m\u001b[0mread\u001b[0m\u001b[1;33m(\u001b[0m\u001b[1;33m)\u001b[0m\u001b[1;33m)\u001b[0m\u001b[1;33m\u001b[0m\u001b[0m\n",
      "\u001b[1;32m/usr/lib/python2.7/urllib.pyc\u001b[0m in \u001b[0;36murlopen\u001b[1;34m(url, data, proxies, context)\u001b[0m\n\u001b[0;32m     85\u001b[0m         \u001b[0mopener\u001b[0m \u001b[1;33m=\u001b[0m \u001b[0m_urlopener\u001b[0m\u001b[1;33m\u001b[0m\u001b[0m\n\u001b[0;32m     86\u001b[0m     \u001b[1;32mif\u001b[0m \u001b[0mdata\u001b[0m \u001b[1;32mis\u001b[0m \u001b[0mNone\u001b[0m\u001b[1;33m:\u001b[0m\u001b[1;33m\u001b[0m\u001b[0m\n\u001b[1;32m---> 87\u001b[1;33m         \u001b[1;32mreturn\u001b[0m \u001b[0mopener\u001b[0m\u001b[1;33m.\u001b[0m\u001b[0mopen\u001b[0m\u001b[1;33m(\u001b[0m\u001b[0murl\u001b[0m\u001b[1;33m)\u001b[0m\u001b[1;33m\u001b[0m\u001b[0m\n\u001b[0m\u001b[0;32m     88\u001b[0m     \u001b[1;32melse\u001b[0m\u001b[1;33m:\u001b[0m\u001b[1;33m\u001b[0m\u001b[0m\n\u001b[0;32m     89\u001b[0m         \u001b[1;32mreturn\u001b[0m \u001b[0mopener\u001b[0m\u001b[1;33m.\u001b[0m\u001b[0mopen\u001b[0m\u001b[1;33m(\u001b[0m\u001b[0murl\u001b[0m\u001b[1;33m,\u001b[0m \u001b[0mdata\u001b[0m\u001b[1;33m)\u001b[0m\u001b[1;33m\u001b[0m\u001b[0m\n",
      "\u001b[1;32m/usr/lib/python2.7/urllib.pyc\u001b[0m in \u001b[0;36mopen\u001b[1;34m(self, fullurl, data)\u001b[0m\n\u001b[0;32m    211\u001b[0m         \u001b[1;32mtry\u001b[0m\u001b[1;33m:\u001b[0m\u001b[1;33m\u001b[0m\u001b[0m\n\u001b[0;32m    212\u001b[0m             \u001b[1;32mif\u001b[0m \u001b[0mdata\u001b[0m \u001b[1;32mis\u001b[0m \u001b[0mNone\u001b[0m\u001b[1;33m:\u001b[0m\u001b[1;33m\u001b[0m\u001b[0m\n\u001b[1;32m--> 213\u001b[1;33m                 \u001b[1;32mreturn\u001b[0m \u001b[0mgetattr\u001b[0m\u001b[1;33m(\u001b[0m\u001b[0mself\u001b[0m\u001b[1;33m,\u001b[0m \u001b[0mname\u001b[0m\u001b[1;33m)\u001b[0m\u001b[1;33m(\u001b[0m\u001b[0murl\u001b[0m\u001b[1;33m)\u001b[0m\u001b[1;33m\u001b[0m\u001b[0m\n\u001b[0m\u001b[0;32m    214\u001b[0m             \u001b[1;32melse\u001b[0m\u001b[1;33m:\u001b[0m\u001b[1;33m\u001b[0m\u001b[0m\n\u001b[0;32m    215\u001b[0m                 \u001b[1;32mreturn\u001b[0m \u001b[0mgetattr\u001b[0m\u001b[1;33m(\u001b[0m\u001b[0mself\u001b[0m\u001b[1;33m,\u001b[0m \u001b[0mname\u001b[0m\u001b[1;33m)\u001b[0m\u001b[1;33m(\u001b[0m\u001b[0murl\u001b[0m\u001b[1;33m,\u001b[0m \u001b[0mdata\u001b[0m\u001b[1;33m)\u001b[0m\u001b[1;33m\u001b[0m\u001b[0m\n",
      "\u001b[1;32m/usr/lib/python2.7/urllib.pyc\u001b[0m in \u001b[0;36mopen_http\u001b[1;34m(self, url, data)\u001b[0m\n\u001b[0;32m    349\u001b[0m         \u001b[1;32mfor\u001b[0m \u001b[0margs\u001b[0m \u001b[1;32min\u001b[0m \u001b[0mself\u001b[0m\u001b[1;33m.\u001b[0m\u001b[0maddheaders\u001b[0m\u001b[1;33m:\u001b[0m \u001b[0mh\u001b[0m\u001b[1;33m.\u001b[0m\u001b[0mputheader\u001b[0m\u001b[1;33m(\u001b[0m\u001b[1;33m*\u001b[0m\u001b[0margs\u001b[0m\u001b[1;33m)\u001b[0m\u001b[1;33m\u001b[0m\u001b[0m\n\u001b[0;32m    350\u001b[0m         \u001b[0mh\u001b[0m\u001b[1;33m.\u001b[0m\u001b[0mendheaders\u001b[0m\u001b[1;33m(\u001b[0m\u001b[0mdata\u001b[0m\u001b[1;33m)\u001b[0m\u001b[1;33m\u001b[0m\u001b[0m\n\u001b[1;32m--> 351\u001b[1;33m         \u001b[0merrcode\u001b[0m\u001b[1;33m,\u001b[0m \u001b[0merrmsg\u001b[0m\u001b[1;33m,\u001b[0m \u001b[0mheaders\u001b[0m \u001b[1;33m=\u001b[0m \u001b[0mh\u001b[0m\u001b[1;33m.\u001b[0m\u001b[0mgetreply\u001b[0m\u001b[1;33m(\u001b[0m\u001b[1;33m)\u001b[0m\u001b[1;33m\u001b[0m\u001b[0m\n\u001b[0m\u001b[0;32m    352\u001b[0m         \u001b[0mfp\u001b[0m \u001b[1;33m=\u001b[0m \u001b[0mh\u001b[0m\u001b[1;33m.\u001b[0m\u001b[0mgetfile\u001b[0m\u001b[1;33m(\u001b[0m\u001b[1;33m)\u001b[0m\u001b[1;33m\u001b[0m\u001b[0m\n\u001b[0;32m    353\u001b[0m         \u001b[1;32mif\u001b[0m \u001b[0merrcode\u001b[0m \u001b[1;33m==\u001b[0m \u001b[1;33m-\u001b[0m\u001b[1;36m1\u001b[0m\u001b[1;33m:\u001b[0m\u001b[1;33m\u001b[0m\u001b[0m\n",
      "\u001b[1;32m/usr/lib/python2.7/httplib.pyc\u001b[0m in \u001b[0;36mgetreply\u001b[1;34m(self, buffering)\u001b[0m\n\u001b[0;32m   1200\u001b[0m         \u001b[1;32mtry\u001b[0m\u001b[1;33m:\u001b[0m\u001b[1;33m\u001b[0m\u001b[0m\n\u001b[0;32m   1201\u001b[0m             \u001b[1;32mif\u001b[0m \u001b[1;32mnot\u001b[0m \u001b[0mbuffering\u001b[0m\u001b[1;33m:\u001b[0m\u001b[1;33m\u001b[0m\u001b[0m\n\u001b[1;32m-> 1202\u001b[1;33m                 \u001b[0mresponse\u001b[0m \u001b[1;33m=\u001b[0m \u001b[0mself\u001b[0m\u001b[1;33m.\u001b[0m\u001b[0m_conn\u001b[0m\u001b[1;33m.\u001b[0m\u001b[0mgetresponse\u001b[0m\u001b[1;33m(\u001b[0m\u001b[1;33m)\u001b[0m\u001b[1;33m\u001b[0m\u001b[0m\n\u001b[0m\u001b[0;32m   1203\u001b[0m             \u001b[1;32melse\u001b[0m\u001b[1;33m:\u001b[0m\u001b[1;33m\u001b[0m\u001b[0m\n\u001b[0;32m   1204\u001b[0m                 \u001b[1;31m#only add this keyword if non-default for compatibility\u001b[0m\u001b[1;33m\u001b[0m\u001b[1;33m\u001b[0m\u001b[0m\n",
      "\u001b[1;32m/usr/lib/python2.7/httplib.pyc\u001b[0m in \u001b[0;36mgetresponse\u001b[1;34m(self, buffering)\u001b[0m\n\u001b[0;32m   1125\u001b[0m \u001b[1;33m\u001b[0m\u001b[0m\n\u001b[0;32m   1126\u001b[0m         \u001b[1;32mtry\u001b[0m\u001b[1;33m:\u001b[0m\u001b[1;33m\u001b[0m\u001b[0m\n\u001b[1;32m-> 1127\u001b[1;33m             \u001b[0mresponse\u001b[0m\u001b[1;33m.\u001b[0m\u001b[0mbegin\u001b[0m\u001b[1;33m(\u001b[0m\u001b[1;33m)\u001b[0m\u001b[1;33m\u001b[0m\u001b[0m\n\u001b[0m\u001b[0;32m   1128\u001b[0m             \u001b[1;32massert\u001b[0m \u001b[0mresponse\u001b[0m\u001b[1;33m.\u001b[0m\u001b[0mwill_close\u001b[0m \u001b[1;33m!=\u001b[0m \u001b[0m_UNKNOWN\u001b[0m\u001b[1;33m\u001b[0m\u001b[0m\n\u001b[0;32m   1129\u001b[0m             \u001b[0mself\u001b[0m\u001b[1;33m.\u001b[0m\u001b[0m__state\u001b[0m \u001b[1;33m=\u001b[0m \u001b[0m_CS_IDLE\u001b[0m\u001b[1;33m\u001b[0m\u001b[0m\n",
      "\u001b[1;32m/usr/lib/python2.7/httplib.pyc\u001b[0m in \u001b[0;36mbegin\u001b[1;34m(self)\u001b[0m\n\u001b[0;32m    451\u001b[0m         \u001b[1;31m# read until we get a non-100 response\u001b[0m\u001b[1;33m\u001b[0m\u001b[1;33m\u001b[0m\u001b[0m\n\u001b[0;32m    452\u001b[0m         \u001b[1;32mwhile\u001b[0m \u001b[0mTrue\u001b[0m\u001b[1;33m:\u001b[0m\u001b[1;33m\u001b[0m\u001b[0m\n\u001b[1;32m--> 453\u001b[1;33m             \u001b[0mversion\u001b[0m\u001b[1;33m,\u001b[0m \u001b[0mstatus\u001b[0m\u001b[1;33m,\u001b[0m \u001b[0mreason\u001b[0m \u001b[1;33m=\u001b[0m \u001b[0mself\u001b[0m\u001b[1;33m.\u001b[0m\u001b[0m_read_status\u001b[0m\u001b[1;33m(\u001b[0m\u001b[1;33m)\u001b[0m\u001b[1;33m\u001b[0m\u001b[0m\n\u001b[0m\u001b[0;32m    454\u001b[0m             \u001b[1;32mif\u001b[0m \u001b[0mstatus\u001b[0m \u001b[1;33m!=\u001b[0m \u001b[0mCONTINUE\u001b[0m\u001b[1;33m:\u001b[0m\u001b[1;33m\u001b[0m\u001b[0m\n\u001b[0;32m    455\u001b[0m                 \u001b[1;32mbreak\u001b[0m\u001b[1;33m\u001b[0m\u001b[0m\n",
      "\u001b[1;32m/usr/lib/python2.7/httplib.pyc\u001b[0m in \u001b[0;36m_read_status\u001b[1;34m(self)\u001b[0m\n\u001b[0;32m    407\u001b[0m     \u001b[1;32mdef\u001b[0m \u001b[0m_read_status\u001b[0m\u001b[1;33m(\u001b[0m\u001b[0mself\u001b[0m\u001b[1;33m)\u001b[0m\u001b[1;33m:\u001b[0m\u001b[1;33m\u001b[0m\u001b[0m\n\u001b[0;32m    408\u001b[0m         \u001b[1;31m# Initialize with Simple-Response defaults\u001b[0m\u001b[1;33m\u001b[0m\u001b[1;33m\u001b[0m\u001b[0m\n\u001b[1;32m--> 409\u001b[1;33m         \u001b[0mline\u001b[0m \u001b[1;33m=\u001b[0m \u001b[0mself\u001b[0m\u001b[1;33m.\u001b[0m\u001b[0mfp\u001b[0m\u001b[1;33m.\u001b[0m\u001b[0mreadline\u001b[0m\u001b[1;33m(\u001b[0m\u001b[0m_MAXLINE\u001b[0m \u001b[1;33m+\u001b[0m \u001b[1;36m1\u001b[0m\u001b[1;33m)\u001b[0m\u001b[1;33m\u001b[0m\u001b[0m\n\u001b[0m\u001b[0;32m    410\u001b[0m         \u001b[1;32mif\u001b[0m \u001b[0mlen\u001b[0m\u001b[1;33m(\u001b[0m\u001b[0mline\u001b[0m\u001b[1;33m)\u001b[0m \u001b[1;33m>\u001b[0m \u001b[0m_MAXLINE\u001b[0m\u001b[1;33m:\u001b[0m\u001b[1;33m\u001b[0m\u001b[0m\n\u001b[0;32m    411\u001b[0m             \u001b[1;32mraise\u001b[0m \u001b[0mLineTooLong\u001b[0m\u001b[1;33m(\u001b[0m\u001b[1;34m\"header line\"\u001b[0m\u001b[1;33m)\u001b[0m\u001b[1;33m\u001b[0m\u001b[0m\n",
      "\u001b[1;32m/usr/lib/python2.7/socket.pyc\u001b[0m in \u001b[0;36mreadline\u001b[1;34m(self, size)\u001b[0m\n\u001b[0;32m    478\u001b[0m             \u001b[1;32mwhile\u001b[0m \u001b[0mTrue\u001b[0m\u001b[1;33m:\u001b[0m\u001b[1;33m\u001b[0m\u001b[0m\n\u001b[0;32m    479\u001b[0m                 \u001b[1;32mtry\u001b[0m\u001b[1;33m:\u001b[0m\u001b[1;33m\u001b[0m\u001b[0m\n\u001b[1;32m--> 480\u001b[1;33m                     \u001b[0mdata\u001b[0m \u001b[1;33m=\u001b[0m \u001b[0mself\u001b[0m\u001b[1;33m.\u001b[0m\u001b[0m_sock\u001b[0m\u001b[1;33m.\u001b[0m\u001b[0mrecv\u001b[0m\u001b[1;33m(\u001b[0m\u001b[0mself\u001b[0m\u001b[1;33m.\u001b[0m\u001b[0m_rbufsize\u001b[0m\u001b[1;33m)\u001b[0m\u001b[1;33m\u001b[0m\u001b[0m\n\u001b[0m\u001b[0;32m    481\u001b[0m                 \u001b[1;32mexcept\u001b[0m \u001b[0merror\u001b[0m\u001b[1;33m,\u001b[0m \u001b[0me\u001b[0m\u001b[1;33m:\u001b[0m\u001b[1;33m\u001b[0m\u001b[0m\n\u001b[0;32m    482\u001b[0m                     \u001b[1;32mif\u001b[0m \u001b[0me\u001b[0m\u001b[1;33m.\u001b[0m\u001b[0margs\u001b[0m\u001b[1;33m[\u001b[0m\u001b[1;36m0\u001b[0m\u001b[1;33m]\u001b[0m \u001b[1;33m==\u001b[0m \u001b[0mEINTR\u001b[0m\u001b[1;33m:\u001b[0m\u001b[1;33m\u001b[0m\u001b[0m\n",
      "\u001b[1;31mIOError\u001b[0m: [Errno socket error] timed out"
     ]
    }
   ],
   "source": [
    "for item in items:\n",
    "    paper_url = item['data']['url']\n",
    "    if paper_url.startswith( 'http' ) :\n",
    "        link_urls = get_urls_from( paper_url )\n",
    "        print item['data']['key']\n",
    "        for url in filter( novel_url, link_urls ) :\n",
    "            print '    ', url"
   ]
  },
  {
   "cell_type": "markdown",
   "metadata": {
    "collapsed": true
   },
   "source": [
    "Clearly, we need to expand the excluded URL list. And we need to match \n",
    "domains, not URLs."
   ]
  },
  {
   "cell_type": "code",
   "execution_count": 22,
   "metadata": {
    "collapsed": true
   },
   "outputs": [],
   "source": [
    "excluded = [ 'nature.com',\n",
    "             'doi.org',\n",
    "             'ncbi.nlm.nih.gov',\n",
    "             'creativecommons.org',\n",
    "             'copyright.com',\n",
    "             'isme-microbes.org',\n",
    "             'doubleclick.net',\n",
    "             'force.com',\n",
    "             'isiglobalnet2.com',\n",
    "             'readcube.com',\n",
    "             'cas.org',\n",
    "             'publicationethics.org',\n",
    "             'natureasia.com',\n",
    "             'uq.edu.au',\n",
    "             'edx.org',\n",
    "             'facebook.com',\n",
    "             'instagram.com',\n",
    "             'youtube.com',\n",
    "             'flickr.com',\n",
    "             'twitter.com',\n",
    "             'go8.edu.au',\n",
    "             'google.com',\n",
    "             'vimeo.com',\n",
    "             'peerj.com',\n",
    "             'mendeley.com',\n",
    "             'cloudfront.net',\n",
    "             'webofknowledge.com',\n",
    "             'sciencedirect.com',\n",
    "             'aol.com',\n",
    "             'pinterest.com',\n",
    "             'scopus.com',\n",
    "             'live.com',\n",
    "             'exlibrisgroup.com',\n",
    "             'usyd.edu.au',\n",
    "             'academicanalytics.com',\n",
    "             'microbiomedigest.com',\n",
    "             'ask.com',\n",
    "             'sogou.com',\n",
    "             'ou.com',\n",
    "             'du.edu',\n",
    "             'ru.nl',\n",
    "             'freshdesk.com',\n",
    "             'caltech.edu',\n",
    "             'traackr.com',\n",
    "             'adobe.com',\n",
    "             'linkedin.com',\n",
    "             'feedly.com',\n",
    "             'google.co.uk',\n",
    "             'glgoo.org',\n",
    "             'library.wisc.edu',\n",
    "             'lib.fsu.edu',\n",
    "             'library.illinois.edu',\n",
    "             'exchange.ou.edu',\n",
    "             'lib.noaa.gov',\n",
    "             'innocentive.com',\n",
    "             'sfx.kcl.ac.uk',\n",
    "             'sfx.unimi.it',\n",
    "             'lib.utexas.edu',\n",
    "             'orcid.org',\n",
    "           ]\n",
    "\n",
    "def novel_url( url ) :\n",
    "    for excluded_url in excluded :\n",
    "        if url.__contains__( excluded_url ) :\n",
    "            return False\n",
    "    return True"
   ]
  },
  {
   "cell_type": "markdown",
   "metadata": {},
   "source": [
    "This excluded list is getting sloppy as the author slowly lapses into \n",
    "a vegitative state, but we'll push on anyway."
   ]
  },
  {
   "cell_type": "code",
   "execution_count": 23,
   "metadata": {
    "collapsed": false,
    "scrolled": false
   },
   "outputs": [
    {
     "name": "stdout",
     "output_type": "stream",
     "text": [
      "QC9BAHIK\n",
      "     http://img.jgi.doe.gov/w/doc/SingleCellDataDecontamination.pdf\n",
      "     http://prodege.jgi-psf.org\n",
      "     http://prodege.jgi-psf.org//downloads/src\n",
      "E7S5UR96 FAILED\n",
      "T9GDRBT5\n",
      "     http://had.co.nz/ggplot2/book\n",
      "     http://CRAN.R-project.org/package=vegan\n",
      "     http://www.tobinhammer.com/publications-and-twitter-feed.html\n",
      "QD3JS59Z\n",
      "     https://bitbucket.org/luo-chengwei/constrains\n",
      "     http://hmpdacc.org/resources/tools_protocols.php\n"
     ]
    }
   ],
   "source": [
    "for item in items:\n",
    "    paper_url = item['data']['url']\n",
    "    if paper_url.startswith( 'http' ) :\n",
    "        try :\n",
    "            link_urls = get_urls_from( paper_url )\n",
    "            print item['data']['key']\n",
    "            for url in list(set(filter( novel_url, link_urls ))) :\n",
    "                print '    ', url\n",
    "        except IOError :\n",
    "            print item['data']['key'], 'FAILED'"
   ]
  },
  {
   "cell_type": "markdown",
   "metadata": {},
   "source": [
    "Some journals aggressivly ban and throttle IPs, so this process gets slow\n",
    "and awful, but it works. Let's check these for dead links..."
   ]
  },
  {
   "cell_type": "code",
   "execution_count": 25,
   "metadata": {
    "collapsed": false
   },
   "outputs": [
    {
     "name": "stdout",
     "output_type": "stream",
     "text": [
      "QC9BAHIK\n",
      "   Fail :  http://img.jgi.doe.gov/w/doc/SingleCellDataDecontamination.pdf\n",
      "   Good :  http://prodege.jgi-psf.org\n",
      "   Good :  http://prodege.jgi-psf.org//downloads/src\n",
      "E7S5UR96 FAILED\n",
      "T9GDRBT5\n",
      "   Fail :  http://had.co.nz/ggplot2/book\n",
      "   Good :  http://CRAN.R-project.org/package=vegan\n",
      "   Good :  http://www.tobinhammer.com/publications-and-twitter-feed.html\n",
      "QD3JS59Z\n",
      "   Good :  https://bitbucket.org/luo-chengwei/constrains\n",
      "   Good :  http://hmpdacc.org/resources/tools_protocols.php\n"
     ]
    }
   ],
   "source": [
    "for item in items:\n",
    "    paper_url = item['data']['url']\n",
    "    if paper_url.startswith( 'http' ) :\n",
    "        try :\n",
    "            link_urls = get_urls_from( paper_url )\n",
    "            print item['data']['key']\n",
    "            for url in list(set(filter( novel_url, link_urls ))) :\n",
    "                request = requests.get( url )\n",
    "                if request.status_code == 200:\n",
    "                    print '   Good : ', url\n",
    "                else:\n",
    "                    print '   Fail : ', url\n",
    "        except IOError :\n",
    "            print item['data']['key'], 'FAILED'"
   ]
  },
  {
   "cell_type": "markdown",
   "metadata": {},
   "source": [
    "I guess that'll do for a proof of concept."
   ]
  },
  {
   "cell_type": "code",
   "execution_count": null,
   "metadata": {
    "collapsed": true
   },
   "outputs": [],
   "source": []
  }
 ],
 "metadata": {
  "kernelspec": {
   "display_name": "Python 2",
   "language": "python",
   "name": "python2"
  },
  "language_info": {
   "codemirror_mode": {
    "name": "ipython",
    "version": 2
   },
   "file_extension": ".py",
   "mimetype": "text/x-python",
   "name": "python",
   "nbconvert_exporter": "python",
   "pygments_lexer": "ipython2",
   "version": "2.7.9"
  }
 },
 "nbformat": 4,
 "nbformat_minor": 0
}
