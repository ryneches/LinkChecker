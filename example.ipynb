{
 "cells": [
  {
   "cell_type": "code",
   "execution_count": 10,
   "metadata": {
    "collapsed": true
   },
   "outputs": [],
   "source": [
    "import slate\n",
    "import urllib\n",
    "import re"
   ]
  },
  {
   "cell_type": "code",
   "execution_count": 3,
   "metadata": {
    "collapsed": false
   },
   "outputs": [],
   "source": [
    "furl = urllib.urlopen('http://www.nature.com/ismej/journal/v10/n1/pdf/ismej2015100a.pdf')\n",
    "with open( '/tmp/asdfasdfasdf.pdf', 'w' ) as ftempfile :\n",
    "    ftempfile.write( furl.read() )\n",
    "with open( '/tmp/asdfasdfasdf.pdf' ) as f :\n",
    "    doc = slate.PDF(f)"
   ]
  },
  {
   "cell_type": "markdown",
   "metadata": {},
   "source": [
    "### PDF is garbage\n",
    "\n",
    "In this example, we are looking for a link to some source code :\n",
    "\n",
    "[`http://prodege.jgi-psf.org//downloads/src`](http://prodege.jgi-psf.org//downloads/src)\n",
    "\n",
    "However, in the PDF, the URL is line wrapped, so the `src` is lost."
   ]
  },
  {
   "cell_type": "code",
   "execution_count": 20,
   "metadata": {
    "collapsed": false
   },
   "outputs": [
    {
     "name": "stdout",
     "output_type": "stream",
     "text": [
      "[]\n",
      "['http://prodege.jgi-psf.org//downloads/', 'http://prodege.jgi-psf.org,']\n",
      "[]\n",
      "['http://img.jgi.', 'http://www.nature.com/ismej)']\n"
     ]
    }
   ],
   "source": [
    "urlre = re.compile( '(?P<url>https?://[^\\s]+)' )\n",
    "\n",
    "for page in doc :\n",
    "    print urlre.findall( page )"
   ]
  },
  {
   "cell_type": "markdown",
   "metadata": {},
   "source": [
    "### PDF is garbage, continued\n",
    "\n",
    "If we remove line breaks to fix URLs that have been wrapped, we discover\n",
    "that the visible line breaks in the document do not correspond to actual\n",
    "line breaks in the represented text. The result is random garbage. "
   ]
  },
  {
   "cell_type": "code",
   "execution_count": 19,
   "metadata": {
    "collapsed": false
   },
   "outputs": [
    {
     "name": "stdout",
     "output_type": "stream",
     "text": [
      "[]\n",
      "['http://prodege.jgi-psf.org//downloads/availablerun', 'http://prodege.jgi-psf.org,which']\n",
      "[]\n",
      "['http://img.jgi.Cell', 'http://creativecommons.org/licenses/by/4.0/the', 'http://www.nature.com/ismej)The']\n"
     ]
    }
   ],
   "source": [
    "urlre = re.compile( '(?P<url>https?://[^\\s]+)' )\n",
    "\n",
    "for page in doc :\n",
    "    print urlre.findall( page.replace('\\n','') )"
   ]
  },
  {
   "cell_type": "markdown",
   "metadata": {},
   "source": [
    "### Nope.\n",
    "\n",
    "At this point, the author elects to flip a table. \n",
    "\n",
    "Let's try looking at the HTML version. I'll swipe some code from \n",
    "[Dive into Python](http://www.diveintopython.net/) here, because \n",
    "finding URLs in a HTML document is what is known as a \"Solved Problem.\""
   ]
  },
  {
   "cell_type": "code",
   "execution_count": 21,
   "metadata": {
    "collapsed": true
   },
   "outputs": [],
   "source": [
    "from sgmllib import SGMLParser\n",
    "\n",
    "class URLLister(SGMLParser):\n",
    "    def reset(self):                              \n",
    "        SGMLParser.reset(self)\n",
    "        self.urls = []\n",
    "\n",
    "    def start_a(self, attrs):                     \n",
    "        href = [v for k, v in attrs if k=='href']  \n",
    "        if href:\n",
    "            self.urls.extend(href)\n",
    "            \n",
    "def get_urls_from(url):\n",
    "    url_list = []\n",
    "    import urllib\n",
    "    usock = urllib.urlopen(url)\n",
    "    parser = URLLister()\n",
    "    parser.feed(usock.read())         \n",
    "    usock.close()      \n",
    "    parser.close()                    \n",
    "    map(url_list.append, \n",
    "        [item for item in parser.urls if item.startswith(('http', 'ftp', 'www'))])\n",
    "    return url_list"
   ]
  },
  {
   "cell_type": "markdown",
   "metadata": {},
   "source": [
    "Here are all the URLs in the document..."
   ]
  },
  {
   "cell_type": "code",
   "execution_count": 24,
   "metadata": {
    "collapsed": false
   },
   "outputs": [
    {
     "data": {
      "text/plain": [
       "['http://www.isme-microbes.org/',\n",
       " 'http://mts-isme.nature.com/cgi-bin/main.plex',\n",
       " 'http://ad.doubleclick.net/N285/jump/ismej.nature.com/;abr=!NN2;type=sc;artid=ismej2015100a;issue=1;pos=top;subjmeta=631;subjmeta=208;subjmeta=212;techmeta=45;techmeta=23;sz=728x90;tile=1;ord=123456789?',\n",
       " 'http://prodege.jgi-psf.org//downloads/src',\n",
       " 'http://prodege.jgi-psf.org',\n",
       " 'http://dx.doi.org/10.1089/cmb.2012.0021',\n",
       " 'http://www.ncbi.nlm.nih.gov/entrez/query.fcgi?holding=npg&amp;cmd=Retrieve&amp;db=PubMed&amp;list_uids=22506599&amp;dopt=Abstract',\n",
       " 'http://links.isiglobalnet2.com/gateway/Gateway.cgi?&amp;GWVersion=2&amp;SrcAuth=Nature&amp;SrcApp=Nature&amp;DestLinkType=FullRecord&amp;KeyUT=000303811800001&amp;DestApp=WOS_CPL',\n",
       " 'http://chemport.cas.org/cgi-bin/sdcgi?APP=ftslink&action=reflink&origin=npg&version=1.0&coi=1:CAS:528:DC%2BC38XmsFOmt7k%3D&pissn=1751-7362&pyear=2016&md5=186ecb2f73d6216debcdc0dc83436dfe',\n",
       " 'http://dx.doi.org/10.1186/1471-2105-10-421',\n",
       " 'http://www.ncbi.nlm.nih.gov/entrez/query.fcgi?holding=npg&amp;cmd=Retrieve&amp;db=PubMed&amp;list_uids=20003500&amp;dopt=Abstract',\n",
       " 'http://chemport.cas.org/cgi-bin/sdcgi?APP=ftslink&action=reflink&origin=npg&version=1.0&coi=1:CAS:528:DC%2BD1MXhsF2gu7jP&pissn=1751-7362&pyear=2016&md5=38e25da61da7c88bff514b4f0c502751',\n",
       " 'http://img.jgi.doe.gov/w/doc/SingleCellDataDecontamination.pdf',\n",
       " 'http://dx.doi.org/10.1073/pnas.1001665107',\n",
       " 'http://www.ncbi.nlm.nih.gov/entrez/query.fcgi?holding=npg&amp;cmd=Retrieve&amp;db=PubMed&amp;list_uids=20668244&amp;dopt=Abstract',\n",
       " 'http://dx.doi.org/10.1371/journal.pgen.1004596',\n",
       " 'http://www.ncbi.nlm.nih.gov/entrez/query.fcgi?holding=npg&amp;cmd=Retrieve&amp;db=PubMed&amp;list_uids=25210772&amp;dopt=Abstract',\n",
       " 'http://dx.doi.org/10.1038/ismej.2014.183',\n",
       " 'http://links.isiglobalnet2.com/gateway/Gateway.cgi?&amp;GWVersion=2&amp;SrcAuth=Nature&amp;SrcApp=Nature&amp;DestLinkType=FullRecord&amp;KeyUT=000351204900007&amp;DestApp=WOS_CPL',\n",
       " 'http://dx.doi.org/10.1093/bioinformatics/btq564',\n",
       " 'http://www.ncbi.nlm.nih.gov/entrez/query.fcgi?holding=npg&amp;cmd=Retrieve&amp;db=PubMed&amp;list_uids=20966005&amp;dopt=Abstract',\n",
       " 'http://links.isiglobalnet2.com/gateway/Gateway.cgi?&amp;GWVersion=2&amp;SrcAuth=Nature&amp;SrcApp=Nature&amp;DestLinkType=FullRecord&amp;KeyUT=000284430900009&amp;DestApp=WOS_CPL',\n",
       " 'http://chemport.cas.org/cgi-bin/sdcgi?APP=ftslink&action=reflink&origin=npg&version=1.0&coi=1:CAS:528:DC%2BC3cXhsVKjtLrJ&pissn=1751-7362&pyear=2016&md5=df5069e170f7d82c809224797936b465',\n",
       " 'http://dx.doi.org/10.1186/1471-2105-11-119',\n",
       " 'http://www.ncbi.nlm.nih.gov/entrez/query.fcgi?holding=npg&amp;cmd=Retrieve&amp;db=PubMed&amp;list_uids=20211023&amp;dopt=Abstract',\n",
       " 'http://chemport.cas.org/cgi-bin/sdcgi?APP=ftslink&action=reflink&origin=npg&version=1.0&coi=1:CAS:528:DC%2BC3cXjt12htbs%3D&pissn=1751-7362&pyear=2016&md5=79208a238042d850ec93c9090fb7ca7b',\n",
       " 'http://www.nature.com/doifinder/10.1038/nmeth0411-311',\n",
       " 'http://www.ncbi.nlm.nih.gov/entrez/query.fcgi?holding=npg&amp;cmd=Retrieve&amp;db=PubMed&amp;list_uids=21451520&amp;dopt=Abstract',\n",
       " 'http://links.isiglobalnet2.com/gateway/Gateway.cgi?&amp;GWVersion=2&amp;SrcAuth=Nature&amp;SrcApp=Nature&amp;DestLinkType=FullRecord&amp;KeyUT=000288940300017&amp;DestApp=WOS_CPL',\n",
       " 'http://chemport.cas.org/cgi-bin/sdcgi?APP=ftslink&action=reflink&origin=npg&version=1.0&coi=1:CAS:528:DC%2BC3MXjvFOnsLc%3D&pissn=1751-7362&pyear=2016&md5=0923d7644613aeaa5964bcdf4f2e0602',\n",
       " 'http://dx.doi.org/10.1093/nar/gkt963',\n",
       " 'http://www.ncbi.nlm.nih.gov/entrez/query.fcgi?holding=npg&amp;cmd=Retrieve&amp;db=PubMed&amp;list_uids=24165883&amp;dopt=Abstract',\n",
       " 'http://links.isiglobalnet2.com/gateway/Gateway.cgi?&amp;GWVersion=2&amp;SrcAuth=Nature&amp;SrcApp=Nature&amp;DestLinkType=FullRecord&amp;KeyUT=000331139800083&amp;DestApp=WOS_CPL',\n",
       " 'http://chemport.cas.org/cgi-bin/sdcgi?APP=ftslink&action=reflink&origin=npg&version=1.0&coi=1:CAS:528:DC%2BC2cXos1Sr&pissn=1751-7362&pyear=2016&md5=5aff5401128f97793cadd2d1f6bf04da',\n",
       " 'http://dx.doi.org/10.1186/1944-3277-10-8',\n",
       " 'http://www.ncbi.nlm.nih.gov/entrez/query.fcgi?holding=npg&amp;cmd=Retrieve&amp;db=PubMed&amp;list_uids=26203331&amp;dopt=Abstract',\n",
       " 'http://www.nature.com/doifinder/10.1038/nbt.2939',\n",
       " 'http://www.ncbi.nlm.nih.gov/entrez/query.fcgi?holding=npg&amp;cmd=Retrieve&amp;db=PubMed&amp;list_uids=24997787&amp;dopt=Abstract',\n",
       " 'http://links.isiglobalnet2.com/gateway/Gateway.cgi?&amp;GWVersion=2&amp;SrcAuth=Nature&amp;SrcApp=Nature&amp;DestLinkType=FullRecord&amp;KeyUT=000346455900043&amp;DestApp=WOS_CPL',\n",
       " 'http://chemport.cas.org/cgi-bin/sdcgi?APP=ftslink&action=reflink&origin=npg&version=1.0&coi=1:CAS:528:DC%2BC2cXhtFSlsLjI&pissn=1751-7362&pyear=2016&md5=2ae07546c7270b896f47e9b8c0c26666',\n",
       " 'http://www.nature.com/doifinder/10.1038/nature12352',\n",
       " 'http://www.ncbi.nlm.nih.gov/entrez/query.fcgi?holding=npg&amp;cmd=Retrieve&amp;db=PubMed&amp;list_uids=23851394&amp;dopt=Abstract',\n",
       " 'http://links.isiglobalnet2.com/gateway/Gateway.cgi?&amp;GWVersion=2&amp;SrcAuth=Nature&amp;SrcApp=Nature&amp;DestLinkType=FullRecord&amp;KeyUT=000322157900031&amp;DestApp=WOS_CPL',\n",
       " 'http://chemport.cas.org/cgi-bin/sdcgi?APP=ftslink&action=reflink&origin=npg&version=1.0&coi=1:CAS:528:DC%2BC3sXhtFShurnE&pissn=1751-7362&pyear=2016&md5=20244df8b818beea04a0c4b4e850d953',\n",
       " 'http://dx.doi.org/10.1371/journal.pone.0017288',\n",
       " 'http://www.ncbi.nlm.nih.gov/entrez/query.fcgi?holding=npg&amp;cmd=Retrieve&amp;db=PubMed&amp;list_uids=21408061&amp;dopt=Abstract',\n",
       " 'http://chemport.cas.org/cgi-bin/sdcgi?APP=ftslink&action=reflink&origin=npg&version=1.0&coi=1:CAS:528:DC%2BC3MXjslSmtr4%3D&pissn=1751-7362&pyear=2016&md5=24d49ca4672d97ff8afae936a58d5824',\n",
       " 'http://dx.doi.org/10.1126/science.1247023',\n",
       " 'http://dx.doi.org/10.1073/pnas.1304246110',\n",
       " 'http://www.ncbi.nlm.nih.gov/entrez/query.fcgi?holding=npg&amp;cmd=Retrieve&amp;db=PubMed&amp;list_uids=23801761&amp;dopt=Abstract',\n",
       " 'http://chemport.cas.org/cgi-bin/sdcgi?APP=ftslink&action=reflink&origin=npg&version=1.0&coi=1:CAS:528:DC%2BC3sXhtVWntbzN&pissn=1751-7362&pyear=2016&md5=78c9402b2462717ffd402008f725ddf4',\n",
       " 'http://links.isiglobalnet2.com/gateway/Gateway.cgi?&amp;GWVersion=2&amp;SrcAuth=Nature&amp;SrcApp=Nature&amp;DestLinkType=FullRecord&amp;KeyUT=000262637600007&amp;DestApp=WOS_CPL',\n",
       " 'http://dx.doi.org/10.1371/journal.pone.0026161',\n",
       " 'http://www.ncbi.nlm.nih.gov/entrez/query.fcgi?holding=npg&amp;cmd=Retrieve&amp;db=PubMed&amp;list_uids=22028825&amp;dopt=Abstract',\n",
       " 'http://chemport.cas.org/cgi-bin/sdcgi?APP=ftslink&action=reflink&origin=npg&version=1.0&coi=1:CAS:528:DC%2BC3MXhsVGltLbI&pissn=1751-7362&pyear=2016&md5=d8bfe0c1f4ff00d13a9f7015209804bc',\n",
       " 'http://creativecommons.org/licenses/by/4.0/',\n",
       " 'http://creativecommons.org/licenses/by/4.0/',\n",
       " 'http://mts-isme.nature.com/',\n",
       " 'http://mse.force.com/nature',\n",
       " 'http://www.isme-microbes.org/',\n",
       " 'http://www.isme-microbes.org/',\n",
       " 'http://www.readcube.com/articles/10.1038/ismej.2015.100',\n",
       " 'https://s100.copyright.com/AppDispatchServlet?publisherName=NPG&publication=The+ISME+Journal&title=ProDeGe: a computational protocol for fully automated decontamination of genomes&author=Kristin Tennessen, Evan Andersen, Scott Clingenpeel, Christian Rinke, Derek S Lundberg et al.&contentID=10.1038/ismej.2015.100&publicationDate=06/09/2015&volumeNum=10&issueNum=1&cc=by',\n",
       " 'https://s100.copyright.com/AppDispatchServlet?publisherName=NPGR&publication=The+ISME+Journal&title=ProDeGe: a computational protocol for fully automated decontamination of genomes&author=Kristin Tennessen, Evan Andersen, Scott Clingenpeel, Christian Rinke, Derek S Lundberg et al.&contentID=10.1038/ismej.2015.100&publicationDate=06/09/2015&volumeNum=10&issueNum=1&numPages=4&pageNumbers=pp269-272&orderBeanReset=true',\n",
       " 'http://www.ncbi.nlm.nih.gov/entrez/query.fcgi?cmd=search&term=Tennessen+K',\n",
       " 'http://www.nature.com/naturejobs/science/jobs/546269-research-engineer-research-scientist-in-renewable-energy',\n",
       " 'http://www.nature.com/naturejobs/science/jobs/542489-talents-wanted-programme-faculty-search-for-the-school-of-environment-beijing-normal-university',\n",
       " 'http://www.nature.com/natureevents/science/events/41001-BIO_Europe_Spring_2016',\n",
       " 'http://www.nature.com/natureevents/science/events/41003-ChinaBio_Partnering_Forum_2016',\n",
       " 'http://ad.doubleclick.net/N285/jump/ismej.nature.com/;abr=!NN2;type=sc;artid=ismej2015100a;issue=1;pos=right;subjmeta=631;subjmeta=208;subjmeta=212;techmeta=45;techmeta=23;sz=160x600;tile=2;ord=123456789?',\n",
       " 'http://publicationethics.org/',\n",
       " 'http://www.isme-microbes.org/',\n",
       " 'http://www.natureasia.com/']"
      ]
     },
     "execution_count": 24,
     "metadata": {},
     "output_type": "execute_result"
    }
   ],
   "source": [
    "urls = get_urls_from('http://www.nature.com/ismej/journal/v10/n1/full/ismej2015100a.html')\n",
    "urls"
   ]
  },
  {
   "cell_type": "markdown",
   "metadata": {},
   "source": [
    "Bleh. That is mostly links in the references, ads and navigation cruft \n",
    "from the journal's content mismanagement system. Because their system\n",
    "is heinously *ad hoc*, there is no base URL. So, we're forced to use an \n",
    "*ad hoc* exclusion list."
   ]
  },
  {
   "cell_type": "code",
   "execution_count": 32,
   "metadata": {
    "collapsed": false
   },
   "outputs": [
    {
     "data": {
      "text/plain": [
       "['http://prodege.jgi-psf.org//downloads/src',\n",
       " 'http://prodege.jgi-psf.org',\n",
       " 'http://img.jgi.doe.gov/w/doc/SingleCellDataDecontamination.pdf']"
      ]
     },
     "execution_count": 32,
     "metadata": {},
     "output_type": "execute_result"
    }
   ],
   "source": [
    "excluded = [ 'http://www.nature.com',\n",
    "             'http://dx.doi.org',\n",
    "             'http://www.ncbi.nlm.nih.gov',\n",
    "             'http://creativecommons.org',\n",
    "             'https://s100.copyright.com',\n",
    "             'http://mts-isme.nature.com',\n",
    "             'http://www.isme-microbes.org',\n",
    "             'http://ad.doubleclick.net',\n",
    "             'http://mse.force.com',\n",
    "             'http://links.isiglobalnet2.com',\n",
    "             'http://www.readcube.com',\n",
    "             'http://chemport.cas.org',\n",
    "             'http://publicationethics.org/',\n",
    "             'http://www.natureasia.com/'\n",
    "           ]\n",
    "\n",
    "def novel_url( url ) :\n",
    "    for excluded_url in excluded :\n",
    "        if url.startswith( excluded_url ) :\n",
    "            return False\n",
    "    return True\n",
    "\n",
    "filter( novel_url, urls )"
   ]
  },
  {
   "cell_type": "markdown",
   "metadata": {},
   "source": [
    "Much better. Now, let's see if these exist..."
   ]
  },
  {
   "cell_type": "code",
   "execution_count": 33,
   "metadata": {
    "collapsed": false
   },
   "outputs": [
    {
     "name": "stdout",
     "output_type": "stream",
     "text": [
      "Good :  http://prodege.jgi-psf.org//downloads/src\n",
      "Good :  http://prodege.jgi-psf.org\n",
      "Fail :  http://img.jgi.doe.gov/w/doc/SingleCellDataDecontamination.pdf\n"
     ]
    }
   ],
   "source": [
    "import requests\n",
    "\n",
    "for url in filter( novel_url, urls ) :\n",
    "    request = requests.get( url )\n",
    "    if request.status_code == 200:\n",
    "        print 'Good : ', url\n",
    "    else:\n",
    "        print 'Fail : ', url"
   ]
  },
  {
   "cell_type": "markdown",
   "metadata": {},
   "source": [
    "Looks like this will work, though we'll need to create a hand-curated list of\n",
    "excluded URLs. Othersise, the counts of dead links could be badly skewed by\n",
    "any issues within the journal's content mismanagement system, ad servers and\n",
    "other irrelevent crud."
   ]
  },
  {
   "cell_type": "code",
   "execution_count": null,
   "metadata": {
    "collapsed": true
   },
   "outputs": [],
   "source": []
  }
 ],
 "metadata": {
  "kernelspec": {
   "display_name": "Python 2",
   "language": "python",
   "name": "python2"
  },
  "language_info": {
   "codemirror_mode": {
    "name": "ipython",
    "version": 2
   },
   "file_extension": ".py",
   "mimetype": "text/x-python",
   "name": "python",
   "nbconvert_exporter": "python",
   "pygments_lexer": "ipython2",
   "version": "2.7.9"
  }
 },
 "nbformat": 4,
 "nbformat_minor": 0
}
